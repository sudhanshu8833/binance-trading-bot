{
 "cells": [
  {
   "cell_type": "code",
   "execution_count": 2,
   "metadata": {},
   "outputs": [],
   "source": [
    "# To add a new cell, type '# %%'\n",
    "# To add a new markdown cell, type '# %% [markdown]'\n",
    "\n",
    "# %%\n",
    "\n",
    "\n",
    "from datetime import date\n",
    "import pandas as pd\n",
    "import time\n",
    "import sys\n",
    "import traceback\n",
    "# local modules\n",
    "from binance.client import Client\n",
    "from binance.client import BaseClient\n",
    "from binance.enums import *\n",
    "from indicator import indicators\n",
    "\n",
    "\n",
    "# local file\n",
    "import secrets\n",
    "import json\n",
    "import yfinance as yf\n",
    "import numpy as np\n",
    "import datetime as dt\n",
    "import requests \n",
    "import json \n",
    "import pandas as pd \n",
    "import numpy as np  \n",
    "import requests\n",
    "import time\n",
    "import urllib\n",
    "from finta import TA\n",
    "\n",
    "# %%\n",
    "\n",
    "df3 = pd.read_csv(\"parameters.csv\")\n",
    "df3.set_index(\"parameters\",inplace=True)\n",
    "df2=df3.T\n",
    "\n",
    "import logging\n",
    "import sys\n",
    "\n",
    "logger = logging.getLogger()\n",
    "logger.setLevel(logging.INFO)\n",
    "formatter = logging.Formatter('%(asctime)s | %(levelname)s | %(message)s')\n",
    "\n",
    "stdout_handler = logging.StreamHandler(sys.stdout)\n",
    "stdout_handler.setLevel(logging.DEBUG)\n",
    "stdout_handler.setFormatter(formatter)\n",
    "\n",
    "file_handler = logging.FileHandler('logs.log')\n",
    "file_handler.setLevel(logging.DEBUG)\n",
    "file_handler.setFormatter(formatter)\n",
    "\n",
    "logger.addHandler(file_handler)\n",
    "logger.addHandler(stdout_handler)\n",
    "BaseClient.FUTURES_TESTNET_URL='https://fapi.binance.{}/fapi'\n",
    "BaseClient.FUTURES_URL = 'https://testnet.binancefuture.com/fapi'\n",
    "\n",
    "# client = Client(\"cc9feab03d1264ed67c07738cdd42502dd80a8b67fedaf2e5f9b6e9c55a2faad\", \"e30d3db72358639f29b6280bf1c54fd564e7b1eb5cb13f020739fd197f396e1b\")  #elclis\n",
    "client = Client(\"86c637e3177c4280ca59adfeaab720357561be2c817eccf84cc0e3470a666c93\", \"f77d6c868d6caf55cb9b04e980b7aa18ce729fc1685ab1417e1bea820c7ac3ef\")  #elclis\n"
   ]
  },
  {
   "cell_type": "code",
   "execution_count": null,
   "metadata": {},
   "outputs": [],
   "source": []
  },
  {
   "cell_type": "code",
   "execution_count": 3,
   "metadata": {},
   "outputs": [],
   "source": [
    "order = client.futures_create_order(\n",
    "    symbol = \"BTCUSDT\",\n",
    "    side = SIDE_SELL,\n",
    "    positionSide = \"LONG\",\n",
    "    type = ORDER_TYPE_MARKET,\n",
    "    quantity = 1,\n",
    "    )"
   ]
  },
  {
   "cell_type": "code",
   "execution_count": null,
   "metadata": {},
   "outputs": [],
   "source": [
    "pd.options.mode.chained_assignment = None\n",
    "\n",
    "\n",
    "\n",
    "def StochRSI(series, period=14, smoothK=3, smoothD=3):\n",
    "    # Calculate RSI \n",
    "    delta = series.diff().dropna()\n",
    "    ups = delta * 0\n",
    "    downs = ups.copy()\n",
    "    ups[delta > 0] = delta[delta > 0]\n",
    "    downs[delta < 0] = -delta[delta < 0]\n",
    "    ups[ups.index[period-1]] = np.mean( ups[:period] ) #first value is sum of avg gains\n",
    "    ups = ups.drop(ups.index[:(period-1)])\n",
    "    downs[downs.index[period-1]] = np.mean( downs[:period] ) #first value is sum of avg losses\n",
    "    downs = downs.drop(downs.index[:(period-1)])\n",
    "    rs = ups.ewm(com=period-1,min_periods=0,adjust=False,ignore_na=False).mean() /          downs.ewm(com=period-1,min_periods=0,adjust=False,ignore_na=False).mean() \n",
    "    rsi = 100 - 100 / (1 + rs)\n",
    "\n",
    "    # Calculate StochRSI \n",
    "    stochrsi  = (rsi - rsi.rolling(period).min()) / (rsi.rolling(period).max() - rsi.rolling(period).min())\n",
    "    stochrsi_K = stochrsi.rolling(smoothK).mean()\n",
    "    stochrsi_D = stochrsi_K.rolling(smoothD).mean()\n",
    "\n",
    "    return stochrsi, stochrsi_K, stochrsi_D\n",
    "\n",
    "# %%\n",
    "def candle(symbol, interval):\n",
    "\n",
    "    global df2,client\n",
    "\n",
    "    client = Client(\"GBCTCkf6qgDQSZrPJWp513J69pJ2yVC8Fntdos7REMs5kyWn4ICJ2FNKnX9CM7WW\", \"v0gKOvAfruQaXGbk77W1CsIWf9CVR9kL0U2DEyru2pUwAapXrfyfAMGrEZIdSyaN\")  #sudhanshu real api\n",
    "\n",
    "    BaseClient.FUTURES_TESTNET_URL='https://fapi.binance.{}/fapi'\n",
    "    BaseClient.FUTURES_URL = 'https://fapi.binance.{}/fapi'\n",
    "    BaseClient.testnet=False\n",
    "    data=client.futures_klines(symbol=symbol,interval=interval)\n",
    "\n",
    "    # BaseClient.FUTURES_TESTNET_URL='https://fapi.binance.{}/fapi'\n",
    "    # BaseClient.FUTURES_URL = 'https://testnet.binancefuture.com/fapi'\n",
    "    client = Client(\"cc9feab03d1264ed67c07738cdd42502dd80a8b67fedaf2e5f9b6e9c55a2faad\", \"e30d3db72358639f29b6280bf1c54fd564e7b1eb5cb13f020739fd197f396e1b\")  #sudhanshu real api\n",
    "\n",
    "\n",
    "    df = pd.DataFrame(data)\n",
    "    df.columns = ['Datetime',\n",
    "                'Open', 'High', 'Low', 'Close', 'volume',\n",
    "                'close_time', 'qav', 'num_trades',\n",
    "                'taker_base_vol', 'taker_quote_vol', 'ignore']\n",
    "    df.index = [dt.datetime.fromtimestamp(x / 1000.0) for x in df.close_time]\n",
    "    \n",
    "    df.drop(['close_time','qav','num_trades','taker_base_vol', 'taker_quote_vol', 'ignore'],axis=1,inplace=True)\n",
    "           \n",
    "    \n",
    "    \n",
    "    df['Open']=pd.to_numeric(df[\"Open\"], downcast=\"float\")\n",
    "    df[\"High\"]=pd.to_numeric(df[\"High\"], downcast=\"float\")\n",
    "    df[\"Low\"]=pd.to_numeric(df[\"Low\"], downcast=\"float\")\n",
    "    df[\"Close\"]=pd.to_numeric(df[\"Close\"], downcast=\"float\")\n",
    "    df[\"volume\"]=pd.to_numeric(df[\"volume\"], downcast=\"float\")\n",
    "    df['ATR']=TA.ATR(df,int(df2['ATR'][0]))\n",
    "    print(df)\n",
    "    HAdf = df[['Open', 'High', 'Low', 'Close']]\n",
    "\n",
    "    HAdf['Close'] = round(((df['Open'] + df['High'] + df['Low'] + df['Close'])/4),4)\n",
    "\n",
    "\n",
    "    for i in range(len(df)):\n",
    "        if i == 0:\n",
    "            HAdf.iat[0,0] = round(((df['Open'].iloc[0] + df['Close'].iloc[0])/2),4)\n",
    "        else:\n",
    "            HAdf.iat[i,0] = round(((HAdf.iat[i-1,0] + HAdf.iat[i-1,3])/2),4)\n",
    "\n",
    "    HAdf['High'] = HAdf.loc[:,['Open', 'Close']].join(df['High']).max(axis=1)\n",
    "    HAdf['Low'] = HAdf.loc[:,['Open', 'Close']].join(df['Low']).min(axis=1)\n",
    "\n",
    "\n",
    "    HAdf['Stoch-k']=StochRSI(HAdf['Close'],int(df2['STOCH-PERIOD'][0]),int(df2['STOCH-K'][0]),int(df2['STOCH-D'][0]))[1]*100\n",
    "    HAdf['Stoch-d']=StochRSI(HAdf['Close'],int(df2['STOCH-PERIOD'][0]),int(df2['STOCH-K'][0]),int(df2['STOCH-D'][0]))[2]*100\n",
    "    HAdf['RSI']=TA.RSI(HAdf,int(df2['RSI'][0]))\n",
    "    HAdf['ATR']=df['ATR']\n",
    "    # df1['STOCH-k']=TA.STOCH(df1,14)\n",
    "    # df1['STOCH-D']=TA.STOCHD(df1,14)\n",
    "\n",
    "    return HAdf[:-1]\n",
    "\n"
   ]
  },
  {
   "cell_type": "code",
   "execution_count": null,
   "metadata": {},
   "outputs": [],
   "source": [
    "candle('BTCUSDT','5m')"
   ]
  },
  {
   "cell_type": "code",
   "execution_count": null,
   "metadata": {},
   "outputs": [],
   "source": [
    "order = client.futures_create_order(\n",
    "    symbol = \"BTCUSDT\",\n",
    "    side = SIDE_BUY,\n",
    "    positionSide = \"LONG\",\n",
    "    type = ORDER_TYPE_MARKET,\n",
    "    quantity = 1,\n",
    "    )"
   ]
  },
  {
   "cell_type": "code",
   "execution_count": null,
   "metadata": {},
   "outputs": [],
   "source": [
    "client.futures_symbol_ticker(symbol='BTCUSDT')['price']"
   ]
  },
  {
   "cell_type": "code",
   "execution_count": null,
   "metadata": {},
   "outputs": [],
   "source": [
    "import pandas as pd\n",
    "df3 = pd.read_csv(\"parameters.csv\")\n",
    "df3.set_index(\"parameters\",inplace=True)\n",
    "df2=df3.T\n",
    "\n",
    "df2['step'][0]"
   ]
  },
  {
   "cell_type": "code",
   "execution_count": 3,
   "metadata": {},
   "outputs": [
    {
     "data": {
      "text/html": "<div>\n<style scoped>\n    .dataframe tbody tr th:only-of-type {\n        vertical-align: middle;\n    }\n\n    .dataframe tbody tr th {\n        vertical-align: top;\n    }\n\n    .dataframe thead th {\n        text-align: right;\n    }\n</style>\n<table border=\"1\" class=\"dataframe\">\n  <thead>\n    <tr style=\"text-align: right;\">\n      <th>parameters</th>\n      <th>binance_api_key</th>\n      <th>binance_api_secret_key</th>\n      <th>take_profit_precentage</th>\n      <th>stop_loss_precentage</th>\n      <th>ATR</th>\n      <th>STOCH-PERIOD</th>\n      <th>STOCH-K</th>\n      <th>STOCH-D</th>\n      <th>RSI</th>\n      <th>investment</th>\n      <th>symbol</th>\n      <th>ATR MULTIPLY</th>\n      <th>binance_X</th>\n      <th>time_frame</th>\n      <th>time_in_mins</th>\n      <th>difference</th>\n      <th>bot</th>\n    </tr>\n  </thead>\n  <tbody>\n    <tr>\n      <th>value</th>\n      <td>Ho3aQlXSESZrQ5LYuu5FqIctzqxJ5EcDDB6FFLZwICHem3...</td>\n      <td>BI1XvhBgoN2eUfcWJLz4tXWVuSTIw0WlTFCJkajqhT6cFY...</td>\n      <td>2</td>\n      <td>10</td>\n      <td>5</td>\n      <td>14</td>\n      <td>3</td>\n      <td>3</td>\n      <td>14</td>\n      <td>100</td>\n      <td>BTCUSDT</td>\n      <td>1.1</td>\n      <td>5</td>\n      <td>1m</td>\n      <td>1</td>\n      <td>0.1</td>\n      <td>on</td>\n    </tr>\n    <tr>\n      <th>Unnamed: 2</th>\n      <td>NaN</td>\n      <td>NaN</td>\n      <td>NaN</td>\n      <td>NaN</td>\n      <td>NaN</td>\n      <td>NaN</td>\n      <td>NaN</td>\n      <td>NaN</td>\n      <td>NaN</td>\n      <td>NaN</td>\n      <td>ETHUSDT</td>\n      <td>NaN</td>\n      <td>NaN</td>\n      <td>NaN</td>\n      <td>NaN</td>\n      <td>NaN</td>\n      <td>NaN</td>\n    </tr>\n    <tr>\n      <th>Unnamed: 3</th>\n      <td>NaN</td>\n      <td>NaN</td>\n      <td>NaN</td>\n      <td>NaN</td>\n      <td>NaN</td>\n      <td>NaN</td>\n      <td>NaN</td>\n      <td>NaN</td>\n      <td>NaN</td>\n      <td>NaN</td>\n      <td>BNBUSDT</td>\n      <td>NaN</td>\n      <td>NaN</td>\n      <td>NaN</td>\n      <td>NaN</td>\n      <td>NaN</td>\n      <td>NaN</td>\n    </tr>\n    <tr>\n      <th>Unnamed: 4</th>\n      <td>NaN</td>\n      <td>NaN</td>\n      <td>NaN</td>\n      <td>NaN</td>\n      <td>NaN</td>\n      <td>NaN</td>\n      <td>NaN</td>\n      <td>NaN</td>\n      <td>NaN</td>\n      <td>NaN</td>\n      <td>ADAUSDT</td>\n      <td>NaN</td>\n      <td>NaN</td>\n      <td>NaN</td>\n      <td>NaN</td>\n      <td>NaN</td>\n      <td>NaN</td>\n    </tr>\n    <tr>\n      <th>Unnamed: 5</th>\n      <td>NaN</td>\n      <td>NaN</td>\n      <td>NaN</td>\n      <td>NaN</td>\n      <td>NaN</td>\n      <td>NaN</td>\n      <td>NaN</td>\n      <td>NaN</td>\n      <td>NaN</td>\n      <td>NaN</td>\n      <td>SOLUSDT</td>\n      <td>NaN</td>\n      <td>NaN</td>\n      <td>NaN</td>\n      <td>NaN</td>\n      <td>NaN</td>\n      <td>NaN</td>\n    </tr>\n    <tr>\n      <th>Unnamed: 6</th>\n      <td>NaN</td>\n      <td>NaN</td>\n      <td>NaN</td>\n      <td>NaN</td>\n      <td>NaN</td>\n      <td>NaN</td>\n      <td>NaN</td>\n      <td>NaN</td>\n      <td>NaN</td>\n      <td>NaN</td>\n      <td>AVAXUSDT</td>\n      <td>NaN</td>\n      <td>NaN</td>\n      <td>NaN</td>\n      <td>NaN</td>\n      <td>NaN</td>\n      <td>NaN</td>\n    </tr>\n    <tr>\n      <th>Unnamed: 7</th>\n      <td>NaN</td>\n      <td>NaN</td>\n      <td>NaN</td>\n      <td>NaN</td>\n      <td>NaN</td>\n      <td>NaN</td>\n      <td>NaN</td>\n      <td>NaN</td>\n      <td>NaN</td>\n      <td>NaN</td>\n      <td>XRPUSDT</td>\n      <td>NaN</td>\n      <td>NaN</td>\n      <td>NaN</td>\n      <td>NaN</td>\n      <td>NaN</td>\n      <td>NaN</td>\n    </tr>\n    <tr>\n      <th>Unnamed: 8</th>\n      <td>NaN</td>\n      <td>NaN</td>\n      <td>NaN</td>\n      <td>NaN</td>\n      <td>NaN</td>\n      <td>NaN</td>\n      <td>NaN</td>\n      <td>NaN</td>\n      <td>NaN</td>\n      <td>NaN</td>\n      <td>DOGEUSDT</td>\n      <td>NaN</td>\n      <td>NaN</td>\n      <td>NaN</td>\n      <td>NaN</td>\n      <td>NaN</td>\n      <td>NaN</td>\n    </tr>\n    <tr>\n      <th>Unnamed: 9</th>\n      <td>NaN</td>\n      <td>NaN</td>\n      <td>NaN</td>\n      <td>NaN</td>\n      <td>NaN</td>\n      <td>NaN</td>\n      <td>NaN</td>\n      <td>NaN</td>\n      <td>NaN</td>\n      <td>NaN</td>\n      <td>CRVUSDT</td>\n      <td>NaN</td>\n      <td>NaN</td>\n      <td>NaN</td>\n      <td>NaN</td>\n      <td>NaN</td>\n      <td>NaN</td>\n    </tr>\n    <tr>\n      <th>Unnamed: 10</th>\n      <td>NaN</td>\n      <td>NaN</td>\n      <td>NaN</td>\n      <td>NaN</td>\n      <td>NaN</td>\n      <td>NaN</td>\n      <td>NaN</td>\n      <td>NaN</td>\n      <td>NaN</td>\n      <td>NaN</td>\n      <td>FTMUSDT</td>\n      <td>NaN</td>\n      <td>NaN</td>\n      <td>NaN</td>\n      <td>NaN</td>\n      <td>NaN</td>\n      <td>NaN</td>\n    </tr>\n    <tr>\n      <th>Unnamed: 11</th>\n      <td>NaN</td>\n      <td>NaN</td>\n      <td>NaN</td>\n      <td>NaN</td>\n      <td>NaN</td>\n      <td>NaN</td>\n      <td>NaN</td>\n      <td>NaN</td>\n      <td>NaN</td>\n      <td>NaN</td>\n      <td>AXSUSDT</td>\n      <td>NaN</td>\n      <td>NaN</td>\n      <td>NaN</td>\n      <td>NaN</td>\n      <td>NaN</td>\n      <td>NaN</td>\n    </tr>\n    <tr>\n      <th>Unnamed: 12</th>\n      <td>NaN</td>\n      <td>NaN</td>\n      <td>NaN</td>\n      <td>NaN</td>\n      <td>NaN</td>\n      <td>NaN</td>\n      <td>NaN</td>\n      <td>NaN</td>\n      <td>NaN</td>\n      <td>NaN</td>\n      <td>XLMUSDT</td>\n      <td>NaN</td>\n      <td>NaN</td>\n      <td>NaN</td>\n      <td>NaN</td>\n      <td>NaN</td>\n      <td>NaN</td>\n    </tr>\n    <tr>\n      <th>Unnamed: 13</th>\n      <td>NaN</td>\n      <td>NaN</td>\n      <td>NaN</td>\n      <td>NaN</td>\n      <td>NaN</td>\n      <td>NaN</td>\n      <td>NaN</td>\n      <td>NaN</td>\n      <td>NaN</td>\n      <td>NaN</td>\n      <td>DOTUSDT</td>\n      <td>NaN</td>\n      <td>NaN</td>\n      <td>NaN</td>\n      <td>NaN</td>\n      <td>NaN</td>\n      <td>NaN</td>\n    </tr>\n    <tr>\n      <th>Unnamed: 14</th>\n      <td>NaN</td>\n      <td>NaN</td>\n      <td>NaN</td>\n      <td>NaN</td>\n      <td>NaN</td>\n      <td>NaN</td>\n      <td>NaN</td>\n      <td>NaN</td>\n      <td>NaN</td>\n      <td>NaN</td>\n      <td>MATICUSDT</td>\n      <td>NaN</td>\n      <td>NaN</td>\n      <td>NaN</td>\n      <td>NaN</td>\n      <td>NaN</td>\n      <td>NaN</td>\n    </tr>\n    <tr>\n      <th>Unnamed: 15</th>\n      <td>NaN</td>\n      <td>NaN</td>\n      <td>NaN</td>\n      <td>NaN</td>\n      <td>NaN</td>\n      <td>NaN</td>\n      <td>NaN</td>\n      <td>NaN</td>\n      <td>NaN</td>\n      <td>NaN</td>\n      <td>BCHUSDT</td>\n      <td>NaN</td>\n      <td>NaN</td>\n      <td>NaN</td>\n      <td>NaN</td>\n      <td>NaN</td>\n      <td>NaN</td>\n    </tr>\n    <tr>\n      <th>Unnamed: 16</th>\n      <td>NaN</td>\n      <td>NaN</td>\n      <td>NaN</td>\n      <td>NaN</td>\n      <td>NaN</td>\n      <td>NaN</td>\n      <td>NaN</td>\n      <td>NaN</td>\n      <td>NaN</td>\n      <td>NaN</td>\n      <td>MANAUSDT</td>\n      <td>NaN</td>\n      <td>NaN</td>\n      <td>NaN</td>\n      <td>NaN</td>\n      <td>NaN</td>\n      <td>NaN</td>\n    </tr>\n    <tr>\n      <th>Unnamed: 17</th>\n      <td>NaN</td>\n      <td>NaN</td>\n      <td>NaN</td>\n      <td>NaN</td>\n      <td>NaN</td>\n      <td>NaN</td>\n      <td>NaN</td>\n      <td>NaN</td>\n      <td>NaN</td>\n      <td>NaN</td>\n      <td>LTCUSDT</td>\n      <td>NaN</td>\n      <td>NaN</td>\n      <td>NaN</td>\n      <td>NaN</td>\n      <td>NaN</td>\n      <td>NaN</td>\n    </tr>\n    <tr>\n      <th>Unnamed: 18</th>\n      <td>NaN</td>\n      <td>NaN</td>\n      <td>NaN</td>\n      <td>NaN</td>\n      <td>NaN</td>\n      <td>NaN</td>\n      <td>NaN</td>\n      <td>NaN</td>\n      <td>NaN</td>\n      <td>NaN</td>\n      <td>CELRUSDT</td>\n      <td>NaN</td>\n      <td>NaN</td>\n      <td>NaN</td>\n      <td>NaN</td>\n      <td>NaN</td>\n      <td>NaN</td>\n    </tr>\n  </tbody>\n</table>\n</div>",
      "text/plain": "parameters                                     binance_api_key  \\\nvalue        Ho3aQlXSESZrQ5LYuu5FqIctzqxJ5EcDDB6FFLZwICHem3...   \nUnnamed: 2                                                 NaN   \nUnnamed: 3                                                 NaN   \nUnnamed: 4                                                 NaN   \nUnnamed: 5                                                 NaN   \nUnnamed: 6                                                 NaN   \nUnnamed: 7                                                 NaN   \nUnnamed: 8                                                 NaN   \nUnnamed: 9                                                 NaN   \nUnnamed: 10                                                NaN   \nUnnamed: 11                                                NaN   \nUnnamed: 12                                                NaN   \nUnnamed: 13                                                NaN   \nUnnamed: 14                                                NaN   \nUnnamed: 15                                                NaN   \nUnnamed: 16                                                NaN   \nUnnamed: 17                                                NaN   \nUnnamed: 18                                                NaN   \n\nparameters                              binance_api_secret_key  \\\nvalue        BI1XvhBgoN2eUfcWJLz4tXWVuSTIw0WlTFCJkajqhT6cFY...   \nUnnamed: 2                                                 NaN   \nUnnamed: 3                                                 NaN   \nUnnamed: 4                                                 NaN   \nUnnamed: 5                                                 NaN   \nUnnamed: 6                                                 NaN   \nUnnamed: 7                                                 NaN   \nUnnamed: 8                                                 NaN   \nUnnamed: 9                                                 NaN   \nUnnamed: 10                                                NaN   \nUnnamed: 11                                                NaN   \nUnnamed: 12                                                NaN   \nUnnamed: 13                                                NaN   \nUnnamed: 14                                                NaN   \nUnnamed: 15                                                NaN   \nUnnamed: 16                                                NaN   \nUnnamed: 17                                                NaN   \nUnnamed: 18                                                NaN   \n\nparameters  take_profit_precentage stop_loss_precentage  ATR STOCH-PERIOD  \\\nvalue                            2                   10    5           14   \nUnnamed: 2                     NaN                  NaN  NaN          NaN   \nUnnamed: 3                     NaN                  NaN  NaN          NaN   \nUnnamed: 4                     NaN                  NaN  NaN          NaN   \nUnnamed: 5                     NaN                  NaN  NaN          NaN   \nUnnamed: 6                     NaN                  NaN  NaN          NaN   \nUnnamed: 7                     NaN                  NaN  NaN          NaN   \nUnnamed: 8                     NaN                  NaN  NaN          NaN   \nUnnamed: 9                     NaN                  NaN  NaN          NaN   \nUnnamed: 10                    NaN                  NaN  NaN          NaN   \nUnnamed: 11                    NaN                  NaN  NaN          NaN   \nUnnamed: 12                    NaN                  NaN  NaN          NaN   \nUnnamed: 13                    NaN                  NaN  NaN          NaN   \nUnnamed: 14                    NaN                  NaN  NaN          NaN   \nUnnamed: 15                    NaN                  NaN  NaN          NaN   \nUnnamed: 16                    NaN                  NaN  NaN          NaN   \nUnnamed: 17                    NaN                  NaN  NaN          NaN   \nUnnamed: 18                    NaN                  NaN  NaN          NaN   \n\nparameters  STOCH-K STOCH-D  RSI investment     symbol ATR MULTIPLY binance_X  \\\nvalue             3       3   14        100    BTCUSDT          1.1         5   \nUnnamed: 2      NaN     NaN  NaN        NaN    ETHUSDT          NaN       NaN   \nUnnamed: 3      NaN     NaN  NaN        NaN    BNBUSDT          NaN       NaN   \nUnnamed: 4      NaN     NaN  NaN        NaN    ADAUSDT          NaN       NaN   \nUnnamed: 5      NaN     NaN  NaN        NaN    SOLUSDT          NaN       NaN   \nUnnamed: 6      NaN     NaN  NaN        NaN   AVAXUSDT          NaN       NaN   \nUnnamed: 7      NaN     NaN  NaN        NaN    XRPUSDT          NaN       NaN   \nUnnamed: 8      NaN     NaN  NaN        NaN   DOGEUSDT          NaN       NaN   \nUnnamed: 9      NaN     NaN  NaN        NaN    CRVUSDT          NaN       NaN   \nUnnamed: 10     NaN     NaN  NaN        NaN    FTMUSDT          NaN       NaN   \nUnnamed: 11     NaN     NaN  NaN        NaN    AXSUSDT          NaN       NaN   \nUnnamed: 12     NaN     NaN  NaN        NaN    XLMUSDT          NaN       NaN   \nUnnamed: 13     NaN     NaN  NaN        NaN    DOTUSDT          NaN       NaN   \nUnnamed: 14     NaN     NaN  NaN        NaN  MATICUSDT          NaN       NaN   \nUnnamed: 15     NaN     NaN  NaN        NaN    BCHUSDT          NaN       NaN   \nUnnamed: 16     NaN     NaN  NaN        NaN   MANAUSDT          NaN       NaN   \nUnnamed: 17     NaN     NaN  NaN        NaN    LTCUSDT          NaN       NaN   \nUnnamed: 18     NaN     NaN  NaN        NaN   CELRUSDT          NaN       NaN   \n\nparameters  time_frame time_in_mins difference  bot  \nvalue               1m            1        0.1   on  \nUnnamed: 2         NaN          NaN        NaN  NaN  \nUnnamed: 3         NaN          NaN        NaN  NaN  \nUnnamed: 4         NaN          NaN        NaN  NaN  \nUnnamed: 5         NaN          NaN        NaN  NaN  \nUnnamed: 6         NaN          NaN        NaN  NaN  \nUnnamed: 7         NaN          NaN        NaN  NaN  \nUnnamed: 8         NaN          NaN        NaN  NaN  \nUnnamed: 9         NaN          NaN        NaN  NaN  \nUnnamed: 10        NaN          NaN        NaN  NaN  \nUnnamed: 11        NaN          NaN        NaN  NaN  \nUnnamed: 12        NaN          NaN        NaN  NaN  \nUnnamed: 13        NaN          NaN        NaN  NaN  \nUnnamed: 14        NaN          NaN        NaN  NaN  \nUnnamed: 15        NaN          NaN        NaN  NaN  \nUnnamed: 16        NaN          NaN        NaN  NaN  \nUnnamed: 17        NaN          NaN        NaN  NaN  \nUnnamed: 18        NaN          NaN        NaN  NaN  "
     },
     "execution_count": 3,
     "metadata": {},
     "output_type": "execute_result"
    }
   ],
   "source": [
    "df2"
   ]
  },
  {
   "cell_type": "code",
   "execution_count": null,
   "metadata": {},
   "outputs": [],
   "source": [
    "import math\n",
    "import pandas as pd\n",
    "\n",
    "from binance.client import Client\n",
    "import json\n",
    "client1 = Client(\"GBCTCkf6qgDQSZrPJWp513J69pJ2yVC8Fntdos7REMs5kyWn4ICJ2FNKnX9CM7WW\", \"v0gKOvAfruQaXGbk77W1CsIWf9CVR9kL0U2DEyru2pUwAapXrfyfAMGrEZIdSyaN\")  #sudhanshu real api\n",
    "\n",
    "exchangeName = \"binance\"\n",
    "\n",
    "\n",
    "\n",
    "\n",
    "class Round:\n",
    "    def step_size_to_precision(self, ss):\n",
    "        return ss.find('1') - 1\n",
    "\n",
    "    def format_value(self, val, step_size_str):\n",
    "        precision = self.step_size_to_precision(step_size_str)\n",
    "        if precision > 0:\n",
    "            return \"{:0.0{}f}\".format(val, precision)\n",
    "        return math.floor(int(val))\n",
    "\n",
    "    def format_valueDown(self, val, step_size_str):\n",
    "        precision = self.step_size_to_precision(step_size_str)\n",
    "        if precision > 0:\n",
    "            return \"{:0.0{}f}\".format(val, precision)\n",
    "        return math.trunc(int(val))\n",
    "\n",
    "\n",
    "df = pd.DataFrame(TokenDetails[\"symbols\"])\n",
    "\n",
    "for index, ticker in df.iterrows():\n",
    "    for tickerRounding in ticker[\"filters\"]:\n",
    "        try:\n",
    "            if tickerRounding[\"filterType\"] == \"LOT_SIZE\":\n",
    "                print(tickerRounding,ticker)\n",
    "\n",
    "\n",
    "        except:\n",
    "            pass"
   ]
  },
  {
   "cell_type": "code",
   "execution_count": null,
   "metadata": {},
   "outputs": [],
   "source": [
    "info = client.futures_exchange_info()\n",
    "def get_precision(symbol):\n",
    "    global info\n",
    "    for x in info['symbols']:\n",
    "        if x['symbol'] == symbol:\n",
    "            return x['quantityPrecision'],x['pricePrecision']"
   ]
  },
  {
   "cell_type": "code",
   "execution_count": null,
   "metadata": {},
   "outputs": [],
   "source": [
    "get_precision('BTCUSDT')[0]"
   ]
  },
  {
   "cell_type": "code",
   "execution_count": null,
   "metadata": {},
   "outputs": [],
   "source": [
    "root_url = 'https://api.binance.com/fapi/v1/klines'\n",
    "url = root_url + '?symbol=' + 'BTCUSDT' + '&interval=' + '5m'\n",
    "url"
   ]
  }
 ],
 "metadata": {
  "kernelspec": {
   "display_name": "Python 3.9.5 64-bit",
   "name": "python395jvsc74a57bd07812ea015bdcee6f23a998adcdd2ef97c151c0c241b7b7070987d9313e41299d"
  },
  "language_info": {
   "codemirror_mode": {
    "name": "ipython",
    "version": 3
   },
   "file_extension": ".py",
   "mimetype": "text/x-python",
   "name": "python",
   "nbconvert_exporter": "python",
   "pygments_lexer": "ipython3",
   "version": "3.9.5"
  },
  "metadata": {
   "interpreter": {
    "hash": "7812ea015bdcee6f23a998adcdd2ef97c151c0c241b7b7070987d9313e41299d"
   }
  },
  "orig_nbformat": 2
 },
 "nbformat": 4,
 "nbformat_minor": 2
}