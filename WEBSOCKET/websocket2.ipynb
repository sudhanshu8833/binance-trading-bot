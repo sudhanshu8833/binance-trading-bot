{
 "cells": [
  {
   "cell_type": "code",
   "execution_count": 5,
   "metadata": {},
   "outputs": [
    {
     "name": "stdout",
     "output_type": "stream",
     "text": [
      "INFO | it started\n",
      "INFO | it started\n",
      "INFO | it started\n",
      "INFO | it started\n"
     ]
    }
   ],
   "source": [
    "# To add a new cell, type '# %%'\n",
    "# To add a new markdown cell, type '# %% [markdown]'\n",
    "\n",
    "# %%\n",
    "\n",
    "\n",
    "from datetime import date\n",
    "import pandas as pd\n",
    "import time\n",
    "import sys\n",
    "import traceback\n",
    "# local modules\n",
    "from binance.client import Client\n",
    "from binance.client import BaseClient\n",
    "from binance.enums import *\n",
    "from indicator import indicators\n",
    "# local file\n",
    "\n",
    "import secrets\n",
    "import json\n",
    "import yfinance as yf\n",
    "import numpy as np\n",
    "import datetime as dt\n",
    "import requests\n",
    "import json\n",
    "import pandas as pd\n",
    "import numpy as np\n",
    "import requests\n",
    "import time\n",
    "import urllib\n",
    "from finta import TA\n",
    "from datetime import datetime\n",
    "\n",
    "# %%\n",
    "\n",
    "df3 = pd.read_csv(\"parameters.csv\")\n",
    "df3.set_index(\"parameters\",inplace=True)\n",
    "df2=df3.T\n",
    "\n",
    "import logging\n",
    "import sys\n",
    "\n",
    "logger = logging.getLogger()\n",
    "logger.setLevel(logging.INFO)\n",
    "formatter = logging.Formatter('%(levelname)s | %(message)s')\n",
    "\n",
    "stdout_handler = logging.StreamHandler(sys.stdout)\n",
    "stdout_handler.setLevel(logging.DEBUG)\n",
    "stdout_handler.setFormatter(formatter)\n",
    "\n",
    "file_handler = logging.FileHandler('logs.log')\n",
    "file_handler.setLevel(logging.DEBUG)\n",
    "file_handler.setFormatter(formatter)\n",
    "\n",
    "logger.addHandler(file_handler)\n",
    "logger.addHandler(stdout_handler)\n",
    "\n",
    "import os, time\n",
    "time.strftime('%X %x %Z')\n",
    "os.environ['TZ'] = 'Europe/London'\n",
    "time.tzset()\n",
    "\n",
    "\n",
    "\n",
    "# %%\n",
    "\n",
    "\n",
    "logger.info('it started')\n",
    "BaseClient.FUTURES_TESTNET_URL='https://fapi.binance.{}/fapi'\n",
    "BaseClient.FUTURES_URL = 'https://testnet.binancefuture.com/fapi'\n",
    "client = Client(\"cc9feab03d1264ed67c07738cdd42502dd80a8b67fedaf2e5f9b6e9c55a2faad\", \"e30d3db72358639f29b6280bf1c54fd564e7b1eb5cb13f020739fd197f396e1b\")\n",
    "\n",
    "\n"
   ]
  },
  {
   "cell_type": "code",
   "execution_count": 8,
   "metadata": {},
   "outputs": [],
   "source": [
    "order1 = client.futures_create_order(\n",
    "symbol='ETHUSDT',\n",
    "side=Client.SIDE_SELL,\n",
    "type=Client.ORDER_TYPE_LIMIT,\n",
    "price='2700',\n",
    "timeInForce='GTC',\n",
    "quantity=.01)"
   ]
  },
  {
   "cell_type": "code",
   "execution_count": 5,
   "metadata": {},
   "outputs": [
    {
     "data": {
      "text/html": "<div>\n<style scoped>\n    .dataframe tbody tr th:only-of-type {\n        vertical-align: middle;\n    }\n\n    .dataframe tbody tr th {\n        vertical-align: top;\n    }\n\n    .dataframe thead th {\n        text-align: right;\n    }\n</style>\n<table border=\"1\" class=\"dataframe\">\n  <thead>\n    <tr style=\"text-align: right;\">\n      <th></th>\n      <th>Open</th>\n      <th>High</th>\n      <th>Low</th>\n      <th>Close</th>\n      <th>Stoch-k</th>\n      <th>Stoch-d</th>\n      <th>RSI</th>\n      <th>ATR</th>\n    </tr>\n  </thead>\n  <tbody>\n    <tr>\n      <th>2022-01-23 16:00:00</th>\n      <td>35310.464844</td>\n      <td>35424.390625</td>\n      <td>35272.000000</td>\n      <td>35329.328125</td>\n      <td>NaN</td>\n      <td>NaN</td>\n      <td>NaN</td>\n      <td>NaN</td>\n    </tr>\n    <tr>\n      <th>2022-01-23 18:00:00</th>\n      <td>35319.898438</td>\n      <td>35379.601562</td>\n      <td>34588.800781</td>\n      <td>35011.750000</td>\n      <td>NaN</td>\n      <td>NaN</td>\n      <td>0.000000</td>\n      <td>NaN</td>\n    </tr>\n    <tr>\n      <th>2022-01-23 20:00:00</th>\n      <td>35165.824219</td>\n      <td>35560.761719</td>\n      <td>34687.128906</td>\n      <td>35086.816406</td>\n      <td>NaN</td>\n      <td>NaN</td>\n      <td>20.290391</td>\n      <td>NaN</td>\n    </tr>\n    <tr>\n      <th>2022-01-23 22:00:00</th>\n      <td>35126.320312</td>\n      <td>36496.921875</td>\n      <td>35126.320312</td>\n      <td>35830.164062</td>\n      <td>NaN</td>\n      <td>NaN</td>\n      <td>74.805909</td>\n      <td>NaN</td>\n    </tr>\n    <tr>\n      <th>2022-01-24 00:00:00</th>\n      <td>35478.242188</td>\n      <td>36249.531250</td>\n      <td>35478.242188</td>\n      <td>35924.468750</td>\n      <td>NaN</td>\n      <td>NaN</td>\n      <td>76.958884</td>\n      <td>745.457813</td>\n    </tr>\n    <tr>\n      <th>...</th>\n      <td>...</td>\n      <td>...</td>\n      <td>...</td>\n      <td>...</td>\n      <td>...</td>\n      <td>...</td>\n      <td>...</td>\n      <td>...</td>\n    </tr>\n    <tr>\n      <th>2022-02-02 20:00:00</th>\n      <td>37630.867188</td>\n      <td>37630.867188</td>\n      <td>36529.808594</td>\n      <td>37149.390625</td>\n      <td>3.552204e+00</td>\n      <td>4.716096</td>\n      <td>31.290729</td>\n      <td>668.923437</td>\n    </tr>\n    <tr>\n      <th>2022-02-02 22:00:00</th>\n      <td>37390.128906</td>\n      <td>37390.128906</td>\n      <td>36805.730469</td>\n      <td>36948.625000</td>\n      <td>3.552204e+00</td>\n      <td>3.552204</td>\n      <td>28.971222</td>\n      <td>666.653125</td>\n    </tr>\n    <tr>\n      <th>2022-02-03 00:00:00</th>\n      <td>37169.375000</td>\n      <td>37169.375000</td>\n      <td>36745.890625</td>\n      <td>36877.257812</td>\n      <td>9.251859e-16</td>\n      <td>2.368136</td>\n      <td>28.171778</td>\n      <td>510.705469</td>\n    </tr>\n    <tr>\n      <th>2022-02-03 02:00:00</th>\n      <td>37023.316406</td>\n      <td>37023.316406</td>\n      <td>36700.000000</td>\n      <td>36820.125000</td>\n      <td>9.251859e-16</td>\n      <td>1.184068</td>\n      <td>27.517147</td>\n      <td>465.561719</td>\n    </tr>\n    <tr>\n      <th>2022-02-03 04:00:00</th>\n      <td>36921.718750</td>\n      <td>37000.000000</td>\n      <td>36764.000000</td>\n      <td>36885.785156</td>\n      <td>2.325172e+00</td>\n      <td>0.775057</td>\n      <td>29.543451</td>\n      <td>454.146094</td>\n    </tr>\n  </tbody>\n</table>\n<p>127 rows × 8 columns</p>\n</div>",
      "text/plain": "                             Open          High           Low         Close  \\\n2022-01-23 16:00:00  35310.464844  35424.390625  35272.000000  35329.328125   \n2022-01-23 18:00:00  35319.898438  35379.601562  34588.800781  35011.750000   \n2022-01-23 20:00:00  35165.824219  35560.761719  34687.128906  35086.816406   \n2022-01-23 22:00:00  35126.320312  36496.921875  35126.320312  35830.164062   \n2022-01-24 00:00:00  35478.242188  36249.531250  35478.242188  35924.468750   \n...                           ...           ...           ...           ...   \n2022-02-02 20:00:00  37630.867188  37630.867188  36529.808594  37149.390625   \n2022-02-02 22:00:00  37390.128906  37390.128906  36805.730469  36948.625000   \n2022-02-03 00:00:00  37169.375000  37169.375000  36745.890625  36877.257812   \n2022-02-03 02:00:00  37023.316406  37023.316406  36700.000000  36820.125000   \n2022-02-03 04:00:00  36921.718750  37000.000000  36764.000000  36885.785156   \n\n                          Stoch-k   Stoch-d        RSI         ATR  \n2022-01-23 16:00:00           NaN       NaN        NaN         NaN  \n2022-01-23 18:00:00           NaN       NaN   0.000000         NaN  \n2022-01-23 20:00:00           NaN       NaN  20.290391         NaN  \n2022-01-23 22:00:00           NaN       NaN  74.805909         NaN  \n2022-01-24 00:00:00           NaN       NaN  76.958884  745.457813  \n...                           ...       ...        ...         ...  \n2022-02-02 20:00:00  3.552204e+00  4.716096  31.290729  668.923437  \n2022-02-02 22:00:00  3.552204e+00  3.552204  28.971222  666.653125  \n2022-02-03 00:00:00  9.251859e-16  2.368136  28.171778  510.705469  \n2022-02-03 02:00:00  9.251859e-16  1.184068  27.517147  465.561719  \n2022-02-03 04:00:00  2.325172e+00  0.775057  29.543451  454.146094  \n\n[127 rows x 8 columns]"
     },
     "execution_count": 5,
     "metadata": {},
     "output_type": "execute_result"
    }
   ],
   "source": [
    "candle('BTCUSDT','5m',time.time())"
   ]
  },
  {
   "cell_type": "code",
   "execution_count": null,
   "metadata": {},
   "outputs": [],
   "source": [
    "import json\n",
    "with open(\"data.json\") as json_data_file:\n",
    "    data = json.load(json_data_file) "
   ]
  },
  {
   "cell_type": "code",
   "execution_count": null,
   "metadata": {},
   "outputs": [],
   "source": [
    "data"
   ]
  },
  {
   "cell_type": "code",
   "execution_count": 6,
   "metadata": {},
   "outputs": [
    {
     "data": {
      "text/plain": "datetime.datetime(2022, 2, 3, 6, 0)"
     },
     "execution_count": 6,
     "metadata": {},
     "output_type": "execute_result"
    }
   ],
   "source": [
    "from datetime import datetime\n",
    "datetime.fromtimestamp(1643868000)"
   ]
  },
  {
   "cell_type": "code",
   "execution_count": null,
   "metadata": {},
   "outputs": [],
   "source": []
  },
  {
   "cell_type": "code",
   "execution_count": null,
   "metadata": {},
   "outputs": [],
   "source": [
    "import json\n",
    "import pandas as pd\n",
    "import datetime as dt\n",
    "\n",
    "import os, time\n",
    "time.strftime('%X %x %Z')\n",
    "os.environ['TZ'] = 'Europe/London'\n",
    "time.tzset()\n",
    "\n",
    "with open(\"data.json\") as json_data_file:\n",
    "    data = json.load(json_data_file) \n",
    "df = pd.DataFrame(data['btcusdt_perpetual'])\n",
    "df.columns = ['Datetime',\n",
    "            'Open', 'High', 'Low', 'Close', 'volume']\n",
    "\n",
    "df.index = [dt.datetime.fromtimestamp(x / 1000.0) for x in df.Datetime]\n",
    "df['Open']=pd.to_numeric(df[\"Open\"], downcast=\"float\")\n",
    "df[\"High\"]=pd.to_numeric(df[\"High\"], downcast=\"float\")\n",
    "df[\"Low\"]=pd.to_numeric(df[\"Low\"], downcast=\"float\")\n",
    "df[\"Close\"]=pd.to_numeric(df[\"Close\"], downcast=\"float\")\n",
    "df[\"Volume\"]=pd.to_numeric(df[\"volume\"], downcast=\"float\")\n",
    "\n",
    "ohlc_dict = {                                                                                                             \n",
    "    'Open': 'first',                                                                                                    \n",
    "    'High': 'max',                                                                                                       \n",
    "    'Low': 'min',                                                                                                        \n",
    "    'Close': 'last',                                                                                                    \n",
    "    'Volume': 'sum',\n",
    "}\n",
    "\n",
    "df=df.resample('120T', closed='left', label='left').apply(ohlc_dict)"
   ]
  },
  {
   "cell_type": "code",
   "execution_count": null,
   "metadata": {},
   "outputs": [],
   "source": [
    "import os, time\n",
    "time.strftime('%X %x %Z')\n",
    "os.environ['TZ'] = 'Europe/London'\n",
    "time.tzset()"
   ]
  },
  {
   "cell_type": "code",
   "execution_count": null,
   "metadata": {},
   "outputs": [],
   "source": [
    "from datetime import datetime\n",
    "datetime.fromtimestamp(1643519760)"
   ]
  },
  {
   "cell_type": "code",
   "execution_count": null,
   "metadata": {},
   "outputs": [],
   "source": [
    "time.strftime('%X %x %Z')"
   ]
  },
  {
   "cell_type": "code",
   "execution_count": null,
   "metadata": {},
   "outputs": [],
   "source": [
    "df1.head(10)"
   ]
  },
  {
   "cell_type": "code",
   "execution_count": null,
   "metadata": {},
   "outputs": [],
   "source": [
    "df.head(50)"
   ]
  },
  {
   "cell_type": "code",
   "execution_count": null,
   "metadata": {},
   "outputs": [],
   "source": [
    "df1"
   ]
  },
  {
   "cell_type": "code",
   "execution_count": null,
   "metadata": {},
   "outputs": [],
   "source": [
    "import websocket\n",
    "import _thread\n",
    "import time\n",
    "import json\n",
    "instrument='btcusdt'\n",
    "interval='1m'\n",
    "open=[]\n",
    "high=[]\n",
    "low=[]\n",
    "close=[]\n",
    "socket='wss://stream.binance.com:9443/ws/'+instrument+'@kline_'+interval\n",
    "\n",
    "\n",
    "def on_message(ws, message):\n",
    "    json_message=json.loads(message)\n",
    "    candle=json_message['k']\n",
    "    candle_closed=candle['x']\n",
    "    if candle_closed==True:\n",
    "        open.append(candle['o'])\n",
    "        high.append(candle['h'])\n",
    "        low.append(candle['l'])\n",
    "        close.append(candle['c'])\n",
    "        print(open)\n",
    "\n",
    "def on_close(ws, close_status_code, close_msg):\n",
    "    print(\"### closed ###\")\n",
    "\n",
    "\n",
    "\n",
    "\n",
    "if __name__ == \"__main__\":\n",
    "    websocket.enableTrace(True)\n",
    "    ws = websocket.WebSocketApp(socket,on_message=on_message,on_close=on_close)\n",
    "\n",
    "\n",
    "    ws.run_forever()"
   ]
  },
  {
   "cell_type": "code",
   "execution_count": null,
   "metadata": {},
   "outputs": [],
   "source": [
    "import websocket\n",
    "import _thread\n",
    "import time\n",
    "import json\n",
    "instrument='btcusdt'\n",
    "interval='1m'\n",
    "open=[]\n",
    "high=[]\n",
    "low=[]\n",
    "close=[]\n",
    "socket='wss://stream.binance.com:9443/ws/'+instrument+'@kline_'+interval\n",
    "print(socket)\n"
   ]
  },
  {
   "cell_type": "code",
   "execution_count": null,
   "metadata": {},
   "outputs": [],
   "source": [
    "\n",
    "def on_message(ws, message):\n",
    "    json_message=json.loads(message)\n",
    "    candle=json_message['k']\n",
    "    candle_closed=candle['x']\n",
    "    if candle_closed==True:\n",
    "        open.append(candle['o'])\n",
    "        high.append(candle['h'])\n",
    "        low.append(candle['l'])\n",
    "        close.append(candle['c'])\n",
    "        print(open)\n",
    "\n",
    "def on_close(ws, close_status_code, close_msg):\n",
    "    print(\"### closed ###\")\n",
    "\n",
    "\n",
    "\n",
    "\n",
    "if __name__ == \"__main__\":\n",
    "    websocket.enableTrace(True)\n",
    "    ws = websocket.WebSocketApp(socket,on_message=on_message,on_close=on_close)\n",
    "\n",
    "\n",
    "    ws.run_forever()"
   ]
  },
  {
   "cell_type": "code",
   "execution_count": 2,
   "metadata": {},
   "outputs": [
    {
     "data": {
      "text/plain": "datetime.datetime(2022, 1, 23, 23, 30)"
     },
     "execution_count": 2,
     "metadata": {},
     "output_type": "execute_result"
    }
   ],
   "source": [
    "\n",
    "from datetime import datetime\n",
    "datetime.fromtimestamp(1642960800)\n",
    "    \n"
   ]
  },
  {
   "cell_type": "code",
   "execution_count": null,
   "metadata": {},
   "outputs": [],
   "source": [
    "data"
   ]
  },
  {
   "cell_type": "code",
   "execution_count": null,
   "metadata": {},
   "outputs": [],
   "source": [
    "import websocket\n",
    "import _thread\n",
    "import time\n",
    "import json\n",
    "instrument='btcusdt'\n",
    "interval='1m'\n",
    "import pandas as pd\n",
    "data={}\n",
    "\n",
    "\n",
    "\n",
    "\n",
    "# tickers=['btcusdt_perpetual','ethusdt_perpetual','bnbusdt_perpetual','adausdt_perpetual']\n",
    "df3 = pd.read_csv(\"parameters.csv\")\n",
    "df3.set_index(\"parameters\",inplace=True)\n",
    "df2=df3.T\n",
    "quantity3=0\n",
    "symbols=list(df2['symbol'])\n",
    "\n",
    "tickers=[]\n",
    "for ticker in symbols:\n",
    "    tickers.append(ticker.lower()+'_perpetual')\n",
    "print(tickers)\n",
    "socket='wss://fstream.binance.com/stream?streams='\n",
    "for ticker in tickers:\n",
    "    socket=socket+str(ticker)+'@continuousKline_1m/'\n",
    "\n",
    "socket=socket[:-1]\n",
    "\n",
    "\n",
    "for ticker in tickers:\n",
    "    data2=ticker.split('_')\n",
    "    data1=client.futures_klines(symbol=data2[0].upper(),interval='1m')\n",
    "    for i in range(len(data1)):\n",
    "        data1[i]=data1[i][:5]\n",
    "    data[ticker]=data1\n",
    "\n",
    "    "
   ]
  },
  {
   "cell_type": "code",
   "execution_count": null,
   "metadata": {},
   "outputs": [],
   "source": [
    "import websocket\n",
    "import _thread\n",
    "import time\n",
    "import json\n",
    "instrument='btcusdt'\n",
    "interval='1m'\n",
    "import pandas as pd\n",
    "data={}\n",
    "\n",
    "\n",
    "\n",
    "\n",
    "# tickers=['btcusdt_perpetual','ethusdt_perpetual','bnbusdt_perpetual','adausdt_perpetual']\n",
    "df3 = pd.read_csv(\"parameters.csv\")\n",
    "df3.set_index(\"parameters\",inplace=True)\n",
    "df2=df3.T\n",
    "quantity3=0\n",
    "symbols=list(df2['symbol'])\n",
    "\n",
    "tickers=[]\n",
    "for ticker in symbols:\n",
    "    tickers.append(ticker.lower()+'_perpetual')\n",
    "print(tickers)\n",
    "socket='wss://fstream.binance.com/stream?streams='\n",
    "for ticker in tickers:\n",
    "    socket=socket+str(ticker)+'@continuousKline_1m/'\n",
    "\n",
    "socket=socket[:-1]\n",
    "\n",
    "\n",
    "for ticker in tickers:\n",
    "    data2=ticker.split('_')\n",
    "    data1=client.futures_klines(symbol=data2[0].upper(),interval='1m')\n",
    "    for i in range(len(data1)):\n",
    "        data1[i]=data1[i][:6]\n",
    "    data[ticker]=data1[:-1]\n",
    "\n",
    "\n",
    "with open(\"data.json\", \"w\") as outfile:\n",
    "    json.dump(data,outfile)\n",
    "\n",
    "def on_message(ws, message):\n",
    "    json_message=json.loads(message)\n",
    "    print(json_message)\n",
    "    print('----------------------------')\n",
    "    # # candle=json_message['k']\n",
    "    # # candle_closed=candle['x']\n",
    "    # # if candle_closed==True:\n",
    "    # #     open.append(candle['o'])\n",
    "    # #     high.append(candle['h'])\n",
    "    # #     low.append(candle['l'])\n",
    "    # #     close.append(candle['c'])\n",
    "    # #     print(open)\n",
    "    for ticker in tickers:\n",
    "        if ticker in json_message['stream']:\n",
    "            candle=json_message['data']['k']\n",
    "            candle_closed=candle['x']\n",
    "            if candle_closed==True:\n",
    "                candle_made=[candle['t'],candle['o'],candle['h'],candle['l'],candle['c'],candle['v']]\n",
    "                print(candle_made)\n",
    "                data[ticker].append(candle_made)\n",
    "                with open(\"data.json\", \"w\") as outfile:\n",
    "                    json.dump(data,outfile)\n",
    "\n",
    "def on_close(ws, close_status_code, close_msg):\n",
    "    print(\"### closed ###\")\n",
    "\n",
    "\n",
    "\n",
    "\n",
    "if __name__ == \"__main__\":\n",
    "    websocket.enableTrace(True)\n",
    "    ws = websocket.WebSocketApp(socket,on_message=on_message,on_close=on_close)\n",
    "    ws.run_forever()\n",
    "\n",
    "    "
   ]
  },
  {
   "cell_type": "code",
   "execution_count": null,
   "metadata": {},
   "outputs": [],
   "source": [
    "data1=client.futures_klines(symbol='BTCUSDT',interval='1m')"
   ]
  },
  {
   "cell_type": "code",
   "execution_count": null,
   "metadata": {},
   "outputs": [],
   "source": [
    "data1"
   ]
  },
  {
   "cell_type": "code",
   "execution_count": null,
   "metadata": {},
   "outputs": [],
   "source": []
  }
 ],
 "metadata": {
  "kernelspec": {
   "display_name": "Python 3.9.5 64-bit",
   "name": "python395jvsc74a57bd07812ea015bdcee6f23a998adcdd2ef97c151c0c241b7b7070987d9313e41299d"
  },
  "language_info": {
   "codemirror_mode": {
    "name": "ipython",
    "version": 3
   },
   "file_extension": ".py",
   "mimetype": "text/x-python",
   "name": "python",
   "nbconvert_exporter": "python",
   "pygments_lexer": "ipython3",
   "version": "3.9.5"
  },
  "metadata": {
   "interpreter": {
    "hash": "7812ea015bdcee6f23a998adcdd2ef97c151c0c241b7b7070987d9313e41299d"
   }
  },
  "orig_nbformat": 2
 },
 "nbformat": 4,
 "nbformat_minor": 2
}