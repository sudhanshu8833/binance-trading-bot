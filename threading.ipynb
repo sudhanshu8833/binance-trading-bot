{
 "cells": [
  {
   "cell_type": "code",
   "execution_count": 17,
   "metadata": {},
   "outputs": [],
   "source": [
    "# importing the threading module\n",
    "from datetime import date\n",
    "import pandas as pd\n",
    "import time\n",
    "import sys\n",
    "# local modules\n",
    "from binance.client import Client\n",
    "from binance.enums import *\n",
    "from indicator import indicators\n",
    "# local file\n",
    "import secrets\n",
    "import json\n",
    "import yfinance as yf\n",
    "import numpy as np\n",
    "import datetime as dt\n",
    "import requests \n",
    "import json \n",
    "import pandas as pd \n",
    "import numpy as np  \n",
    "import requests\n",
    "import time\n",
    "import urllib\n",
    "from finta import TA\n",
    "from multiprocessing import Process\n",
    "import threading\n",
    "from NeatLogger import Log"
   ]
  },
  {
   "cell_type": "code",
   "execution_count": 3,
   "metadata": {},
   "outputs": [],
   "source": [
    "df3 = pd.read_csv(\"parameters.csv\")\n",
    "df3.set_index(\"parameters\",inplace=True)\n",
    "df1=df3.T"
   ]
  },
  {
   "cell_type": "code",
   "execution_count": 35,
   "metadata": {},
   "outputs": [],
   "source": [
    "# To add a new cell, type '# %%'\n",
    "# To add a new markdown cell, type '# %% [markdown]'\n",
    "\n",
    "# %%\n",
    "\n",
    "\n",
    "from datetime import date\n",
    "import pandas as pd\n",
    "import time\n",
    "import sys\n",
    "# local modules\n",
    "from binance.client import Client\n",
    "from binance.client import BaseClient\n",
    "from binance.enums import *\n",
    "from indicator import indicators\n",
    "# local file\n",
    "import secrets\n",
    "import json\n",
    "import yfinance as yf\n",
    "import numpy as np\n",
    "import datetime as dt\n",
    "import requests \n",
    "import json \n",
    "import pandas as pd \n",
    "import numpy as np  \n",
    "import requests\n",
    "import time\n",
    "import urllib\n",
    "from finta import TA\n",
    "\n",
    "# %%\n",
    "\n",
    "df3 = pd.read_csv(\"parameters.csv\")\n",
    "df3.set_index(\"parameters\",inplace=True)\n",
    "df2=df3.T\n",
    "\n",
    "import logging\n",
    "import sys\n",
    "\n",
    "logger = logging.getLogger()\n",
    "logger.setLevel(logging.INFO)\n",
    "formatter = logging.Formatter('%(asctime)s | %(levelname)s | %(message)s')\n",
    "\n",
    "stdout_handler = logging.StreamHandler(sys.stdout)\n",
    "stdout_handler.setLevel(logging.DEBUG)\n",
    "stdout_handler.setFormatter(formatter)\n",
    "\n",
    "file_handler = logging.FileHandler('logs.log')\n",
    "file_handler.setLevel(logging.DEBUG)\n",
    "file_handler.setFormatter(formatter)\n",
    "\n",
    "\n",
    "logger.addHandler(file_handler)\n",
    "logger.addHandler(stdout_handler)\n",
    "\n",
    "\n",
    "# import telepot\n",
    "# bot = telepot.Bot('1715056219:AAGxytb3U1gIt1vlVn8Jf5b4za3E1HPuOd4')\n",
    "# bot.getMe()\n",
    "\n",
    "# %%\n",
    "# client = Client((df2['binance_api_key'][0]), str(df2['binance_api_secret_key'][0]))\n",
    "BaseClient.FUTURES_TESTNET_URL='https://fapi.binance.{}/fapi'\n",
    "BaseClient.FUTURES_URL = 'https://testnet.binancefuture.com/fapi'\n",
    "\n",
    "\n",
    "client = Client(\"9358c5e083cedf0f310b4dd17c1c2be8760b2752a8ca890046c994da91a37b9c\", \"fa8e91b3077b01fc9f7fba888495b1a9f919a033e13cc51221fdb8e275c25496\")\n",
    "\n",
    "\n",
    "# %%\n",
    "# while True:\n",
    "#     data=client.get_all_tickers()\n",
    "#     symbol=[]\n",
    "#     prices=[]\n",
    "\n",
    "#     df=pd.DataFrame()\n",
    "#     for dat in data:\n",
    "#         symbol.append(dat['symbol'])\n",
    "#         prices.append(dat['price'])\n",
    "        \n",
    "\n",
    "#     df['symbols']=np.array(symbol)\n",
    "#     df['price']=np.array(prices)\n",
    "#     df.to_csv('data.csv')\n",
    "\n",
    "\n",
    "# %%\n",
    "# import json\n",
    "\n",
    "# while True:\n",
    "#     try:\n",
    "#         data=client.get_all_tickers()\n",
    "#         # Data to be written\n",
    "#         dictionary =data\n",
    "\n",
    "#         # Serializing json \n",
    "#         json_object = json.dumps(dictionary, indent = 2)\n",
    "        \n",
    "#         # Writing to sample.json\n",
    "#         with open(\"sample.json\", \"w\") as outfile:\n",
    "#             outfile.write(json_object)\n",
    "#     except Exception as e:\n",
    "#         print(e)\n",
    "\n",
    "\n",
    "# %%\n",
    "\n",
    "# %%\n",
    "\n",
    "\n",
    "\n",
    "\n",
    "def StochRSI(series, period=14, smoothK=3, smoothD=3):\n",
    "    # Calculate RSI \n",
    "    delta = series.diff().dropna()\n",
    "    ups = delta * 0\n",
    "    downs = ups.copy()\n",
    "    ups[delta > 0] = delta[delta > 0]\n",
    "    downs[delta < 0] = -delta[delta < 0]\n",
    "    ups[ups.index[period-1]] = np.mean( ups[:period] ) #first value is sum of avg gains\n",
    "    ups = ups.drop(ups.index[:(period-1)])\n",
    "    downs[downs.index[period-1]] = np.mean( downs[:period] ) #first value is sum of avg losses\n",
    "    downs = downs.drop(downs.index[:(period-1)])\n",
    "    rs = ups.ewm(com=period-1,min_periods=0,adjust=False,ignore_na=False).mean() /          downs.ewm(com=period-1,min_periods=0,adjust=False,ignore_na=False).mean() \n",
    "    rsi = 100 - 100 / (1 + rs)\n",
    "\n",
    "    # Calculate StochRSI \n",
    "    stochrsi  = (rsi - rsi.rolling(period).min()) / (rsi.rolling(period).max() - rsi.rolling(period).min())\n",
    "    stochrsi_K = stochrsi.rolling(smoothK).mean()\n",
    "    stochrsi_D = stochrsi_K.rolling(smoothD).mean()\n",
    "\n",
    "    return stochrsi, stochrsi_K, stochrsi_D\n",
    "\n",
    "# %%\n",
    "def candle(symbol, interval):\n",
    "\n",
    "    global df2\n",
    "    root_url = 'https://api.binance.com/api/v1/klines'\n",
    "    url = root_url + '?symbol=' + symbol + '&interval=' + interval\n",
    "    data = json.loads(requests.get(url).text)\n",
    "    df = pd.DataFrame(data)\n",
    "    df.columns = ['Datetime',\n",
    "                'Open', 'High', 'Low', 'Close', 'volume',\n",
    "                'close_time', 'qav', 'num_trades',\n",
    "                'taker_base_vol', 'taker_quote_vol', 'ignore']\n",
    "    df.index = [dt.datetime.fromtimestamp(x / 1000.0) for x in df.close_time]\n",
    "    \n",
    "    df.drop(['close_time','qav','num_trades','taker_base_vol', 'taker_quote_vol', 'ignore'],axis=1,inplace=True)\n",
    "           \n",
    "    \n",
    "    \n",
    "    df['Open']=pd.to_numeric(df[\"Open\"], downcast=\"float\")\n",
    "    df[\"High\"]=pd.to_numeric(df[\"High\"], downcast=\"float\")\n",
    "    df[\"Low\"]=pd.to_numeric(df[\"Low\"], downcast=\"float\")\n",
    "    df[\"Close\"]=pd.to_numeric(df[\"Close\"], downcast=\"float\")\n",
    "    df[\"volume\"]=pd.to_numeric(df[\"volume\"], downcast=\"float\")\n",
    "    df['ATR']=TA.ATR(df,int(df2['ATR'][0]))\n",
    "    df1=pd.DataFrame()\n",
    "    Open=[]\n",
    "    \n",
    "    df1['Close']=((df['Open'] + df['High'] + df['Low'] + df['Close'])/4)\n",
    "    for i in range(len(df)):\n",
    "        if i==0:\n",
    "            Open.append(0)\n",
    "\n",
    "        else:\n",
    "            Open.append((df['Open'][i-1]+df['Close'][i-1])/2)\n",
    "    df1['Open']=np.array(Open)\n",
    "    df1['volume']=df['volume']\n",
    "    df1['ATR']=df['ATR']\n",
    "    High=[]\n",
    "    Low=[]\n",
    "    High.append(0)\n",
    "    Low.append(0)\n",
    "    for i in range(1,len(df)):\n",
    "\n",
    "        High.append(max(df['High'][i],df1['Close'][i],df1['Open'][i]))\n",
    "        Low.append(min(df['Low'][i],df1['Close'][i],df1['Open'][i]))\n",
    "\n",
    "    df1['High']=np.array(High)\n",
    "    df1['Low']=np.array(Low)\n",
    "\n",
    "    df1['Stoch-k']=StochRSI(df1['Close'],int(df2['STOCH-PERIOD'][0]),int(df2['STOCH-K'][0]),int(df2['STOCH-D'][0]))[1]*100\n",
    "    df1['Stoch-d']=StochRSI(df1['Close'],int(df2['STOCH-PERIOD'][0]),int(df2['STOCH-K'][0]),int(df2['STOCH-D'][0]))[2]*100\n",
    "    df1['RSI']=TA.RSI(df1,int(df2['RSI'][0]))\n",
    "\n",
    "    # df1['STOCH-k']=TA.STOCH(df1,14)\n",
    "    # df1['STOCH-D']=TA.STOCHD(df1,14)\n",
    "\n",
    "    return df1[:-1]\n"
   ]
  },
  {
   "cell_type": "code",
   "execution_count": 42,
   "metadata": {},
   "outputs": [],
   "source": [
    "df=candle('ETHUSDT','5m')\n",
    "\n"
   ]
  },
  {
   "cell_type": "code",
   "execution_count": 55,
   "metadata": {},
   "outputs": [
    {
     "data": {
      "text/plain": "'2022-01-18 11:24:59.999000'"
     },
     "execution_count": 55,
     "metadata": {},
     "output_type": "execute_result"
    }
   ],
   "source": [
    "str(df.index[-2])"
   ]
  },
  {
   "cell_type": "code",
   "execution_count": 45,
   "metadata": {},
   "outputs": [],
   "source": [
    "import logging"
   ]
  },
  {
   "cell_type": "code",
   "execution_count": 32,
   "metadata": {},
   "outputs": [],
   "source": [
    "import logging\n",
    "import sys\n",
    "\n",
    "logger = logging.getLogger()\n",
    "logger.setLevel(logging.INFO)\n",
    "formatter = logging.Formatter('%(asctime)s | %(levelname)s | %(message)s')\n",
    "\n",
    "stdout_handler = logging.StreamHandler(sys.stdout)\n",
    "stdout_handler.setLevel(logging.DEBUG)\n",
    "stdout_handler.setFormatter(formatter)\n",
    "\n",
    "file_handler = logging.FileHandler('logs.log')\n",
    "file_handler.setLevel(logging.DEBUG)\n",
    "file_handler.setFormatter(formatter)\n",
    "\n",
    "\n",
    "logger.addHandler(file_handler)\n",
    "logger.addHandler(stdout_handler)\n",
    "\n",
    "# self.logger = logging.getLogger('urbanGUI')"
   ]
  },
  {
   "cell_type": "code",
   "execution_count": 33,
   "metadata": {},
   "outputs": [
    {
     "name": "stderr",
     "output_type": "stream",
     "text": [
      "INFO:root:This is a log message!\n",
      "[\u001b[90mtimestamp\u001b[0m \u001b[33m2022-01-17 23:02:57.177621+05:30\u001b[0m] [\u001b[90mname\u001b[0m \u001b[35mroot\u001b[0m] [\u001b[90mlevelname\u001b[0m \u001b[31mINFO\u001b[0m] [\u001b[90mfilename\u001b[0m \u001b[36m<ipython-input-33-4799c163a70e>\u001b[0m] [\u001b[90mlineno\u001b[0m \u001b[36m1\u001b[0m] This is a log message!\n",
      "[\u001b[90mtimestamp\u001b[0m \u001b[33m2022-01-17 23:02:57.177621+05:30\u001b[0m] [\u001b[90mname\u001b[0m \u001b[35mroot\u001b[0m] [\u001b[90mlevelname\u001b[0m \u001b[31mINFO\u001b[0m] [\u001b[90mfilename\u001b[0m \u001b[36m<ipython-input-33-4799c163a70e>\u001b[0m] [\u001b[90mlineno\u001b[0m \u001b[36m1\u001b[0m] This is a log message!\n",
      "[\u001b[90mtimestamp\u001b[0m \u001b[33m2022-01-17 23:02:57.177621+05:30\u001b[0m] [\u001b[90mname\u001b[0m \u001b[35mroot\u001b[0m] [\u001b[90mlevelname\u001b[0m \u001b[31mINFO\u001b[0m] [\u001b[90mfilename\u001b[0m \u001b[36m<ipython-input-33-4799c163a70e>\u001b[0m] [\u001b[90mlineno\u001b[0m \u001b[36m1\u001b[0m] This is a log message!\n",
      "[\u001b[90mtimestamp\u001b[0m \u001b[33m2022-01-17 23:02:57.177621+05:30\u001b[0m] [\u001b[90mname\u001b[0m \u001b[35mroot\u001b[0m] [\u001b[90mlevelname\u001b[0m \u001b[31mINFO\u001b[0m] [\u001b[90mfilename\u001b[0m \u001b[36m<ipython-input-33-4799c163a70e>\u001b[0m] [\u001b[90mlineno\u001b[0m \u001b[36m1\u001b[0m] This is a log message!\n"
     ]
    },
    {
     "name": "stdout",
     "output_type": "stream",
     "text": [
      "2022-01-17 23:02:57,177 | INFO | This is a log message!\n"
     ]
    }
   ],
   "source": [
    "logger.info('This is a log message!')"
   ]
  },
  {
   "cell_type": "code",
   "execution_count": 3,
   "metadata": {},
   "outputs": [],
   "source": [
    "from multiprocessing import Process\n",
    "import time\n",
    "\n",
    "\n",
    "def f(name):\n",
    "    time.sleep(2)\n",
    "    print('hi')\n",
    "\n",
    "\n",
    "Processes=[]\n",
    "\n",
    "for i in range(5):\n",
    "    Processes.append(Process(target=f, args=('bob',)))\n",
    "\n",
    "\n",
    "\n",
    "for process in Processes:\n",
    "    process.start()\n",
    "\n",
    "for process in Processes:\n",
    "\n",
    "    process.join()"
   ]
  },
  {
   "cell_type": "code",
   "execution_count": 7,
   "metadata": {},
   "outputs": [
    {
     "name": "stdout",
     "output_type": "stream",
     "text": [
      "registering process 0\n"
     ]
    }
   ],
   "source": [
    "\n",
    "\n"
   ]
  },
  {
   "cell_type": "code",
   "execution_count": 2,
   "metadata": {},
   "outputs": [],
   "source": []
  },
  {
   "cell_type": "code",
   "execution_count": 11,
   "metadata": {},
   "outputs": [],
   "source": [
    "from multiprocessing import Process\n",
    "import os\n",
    "\n",
    "def info(title):\n",
    "    print(title)\n",
    "    print('module name:', __name__)\n",
    "    print('parent process:', os.getppid())\n",
    "    print('process id:', os.getpid())\n",
    "\n",
    "def f(name):\n",
    "    info('function f')\n",
    "    print('hello', name)\n",
    "\n",
    "if __name__ == '__main__':\n",
    "    # info('main line')\n",
    "    p = Process(target=f, args=('bob',))\n",
    "    p.start()\n",
    "    p.join()"
   ]
  },
  {
   "cell_type": "code",
   "execution_count": 1,
   "metadata": {},
   "outputs": [],
   "source": [
    "import multiprocessing as mp\n",
    "import math\n",
    "import os\n",
    "\n",
    "#----------------------------------------------------------------------------------------------------------------------\n",
    "#This is a VERY SIMPLE example of parallel processing in Python using the multiprocessing library using the Process object.\n",
    "# Details of implementation/tutorial can be found here: http://madhugnadig.com/articles/parallel-processing/2017/01/25/parallel-programming-in-python-with-ease.html\n",
    "#----------------------------------------------------------------------------------------------------------------------\n",
    "\n",
    "\n",
    "def process_info():\n",
    "    print('Module:' + str(__name__) + '\\n')\n",
    "    print('Parent Process id:' + str(os.getppid())+ '\\n' )\n",
    "    print('Process id:' + str(os.getpid())+ '\\n\\n' )\n",
    "\n",
    "def cubes_and_sqare_root(a,x,output):\n",
    "\tprocess_info()\n",
    "\toutput.put((int(x), math.sqrt(a**3)))\n",
    "\n",
    "def main():\n",
    "\t#Using the queue as the message passing paradigm \n",
    "\toutput = mp.Queue()\n",
    "\tprocesses = [mp.Process(target=cubes_and_sqare_root, args=(x, x,output)) for x in range(1,8)]\n",
    "\n",
    "\tfor process in processes:\n",
    "\t\tprocess.start()\n",
    "\n",
    "\tfor process in processes:\n",
    "\t\tprocess.join()\n",
    "\n",
    "\tresults = [output.get() for process in processes]\n",
    "\t\n",
    "\tprint(results)\n",
    "\n",
    "if __name__ == '__main__':    \n",
    "\tmain()"
   ]
  },
  {
   "cell_type": "code",
   "execution_count": 1,
   "metadata": {},
   "outputs": [],
   "source": [
    "import re\n",
    "tweet='$AMD #TWTradeAlert\\n\\nBTO 21JAN22 125P @ $3.95\\n\\n*starter swing*'\n",
    "data=re.split(' |\\n',tweet)"
   ]
  },
  {
   "cell_type": "code",
   "execution_count": 3,
   "metadata": {},
   "outputs": [
    {
     "name": "stdout",
     "output_type": "stream",
     "text": [
      "['$AMD', '#TWTradeAlert', '', 'BTO', '21JAN22', '125P', '@', '$3.95', '', '*starter', 'swing*']\n"
     ]
    }
   ],
   "source": [
    "print(data)"
   ]
  },
  {
   "cell_type": "code",
   "execution_count": 8,
   "metadata": {},
   "outputs": [],
   "source": [
    "price=1.2\n",
    "formatted_float = \"{:.2f}\".format(price)"
   ]
  },
  {
   "cell_type": "code",
   "execution_count": 9,
   "metadata": {},
   "outputs": [
    {
     "data": {
      "text/plain": "'1.20'"
     },
     "execution_count": 9,
     "metadata": {},
     "output_type": "execute_result"
    }
   ],
   "source": [
    "formatted_float"
   ]
  },
  {
   "cell_type": "code",
   "execution_count": null,
   "metadata": {},
   "outputs": [],
   "source": []
  }
 ],
 "metadata": {
  "kernelspec": {
   "display_name": "Python 3.9.5 64-bit",
   "name": "python395jvsc74a57bd07812ea015bdcee6f23a998adcdd2ef97c151c0c241b7b7070987d9313e41299d"
  },
  "language_info": {
   "codemirror_mode": {
    "name": "ipython",
    "version": 3
   },
   "file_extension": ".py",
   "mimetype": "text/x-python",
   "name": "python",
   "nbconvert_exporter": "python",
   "pygments_lexer": "ipython3",
   "version": "3.9.5"
  },
  "metadata": {
   "interpreter": {
    "hash": "7812ea015bdcee6f23a998adcdd2ef97c151c0c241b7b7070987d9313e41299d"
   }
  },
  "orig_nbformat": 2
 },
 "nbformat": 4,
 "nbformat_minor": 2
}